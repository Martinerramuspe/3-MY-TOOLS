{
 "cells": [
  {
   "cell_type": "markdown",
   "id": "b1f2efb4-5f2a-4aa0-8942-c83f1ffbb604",
   "metadata": {
    "tags": []
   },
   "source": [
    "### 1-DISCRETIZACION DE SERIE, DISTRIBUCION UNIFORME ###"
   ]
  },
  {
   "cell_type": "code",
   "execution_count": 1,
   "id": "2fc8b71e-ed76-4d9d-a478-9b2d8d9a08b4",
   "metadata": {},
   "outputs": [],
   "source": [
    "import numpy as np"
   ]
  },
  {
   "cell_type": "code",
   "execution_count": 2,
   "id": "fe59ac87-27eb-4d9b-9849-f1a8e512fbd2",
   "metadata": {},
   "outputs": [],
   "source": [
    "import pandas as pd"
   ]
  },
  {
   "cell_type": "code",
   "execution_count": 3,
   "id": "15d216b9-ccd9-465a-93b3-a81765a35635",
   "metadata": {},
   "outputs": [],
   "source": [
    "import seaborn as sns"
   ]
  },
  {
   "cell_type": "markdown",
   "id": "54e0aa58-879b-4ead-9bda-16593e24dfb9",
   "metadata": {},
   "source": [
    "**Ingresamos un array aleatorio**"
   ]
  },
  {
   "cell_type": "code",
   "execution_count": 4,
   "id": "79b4ae4c-bde7-415f-828f-1e15fcbfad1b",
   "metadata": {},
   "outputs": [],
   "source": [
    "edades= np.array([1,7,8,15,16,28,35,50,55,70,75,100])"
   ]
  },
  {
   "cell_type": "markdown",
   "id": "12aba13d-b4d9-4810-8a6c-91841b08d9ef",
   "metadata": {},
   "source": [
    "**Aplicamos comandos para la transformacion,\n",
    "Obersaciones:**\n",
    "- Asignamos 3 contenedore.\n",
    "- Asignamos una distribucion uniforme."
   ]
  },
  {
   "cell_type": "code",
   "execution_count": 5,
   "id": "8ffc5f20-758f-4bd1-9feb-e9a6f6dd2e6c",
   "metadata": {},
   "outputs": [
    {
     "name": "stdout",
     "output_type": "stream",
     "text": [
      "[  0.901  34.     67.    100.   ]\n",
      "['Baja' 'Baja' 'Baja' 'Baja' 'Baja' 'Baja' 'Media' 'Media' 'Media' 'Alta'\n",
      " 'Alta' 'Alta']\n"
     ]
    }
   ],
   "source": [
    "resultado= pd.cut(edades,\n",
    "                  bins=3, #numero de contenedores a crear\n",
    "                  labels=[\"Baja\",\"Media\",\"Alta\"], #Asignamos etiquetas a los contenedores\n",
    "                  include_lowest=True, # este comando sirve para incluir los valores mas bajos,para no tener error\n",
    "                  retbins =True) # comando para saber el tamaño de los contenedores\n",
    "print(resultado[1]) #Para observar los rangos de captacion \n",
    "print(np.array(resultado[0])) #Para observar el nuevo array"
   ]
  },
  {
   "cell_type": "markdown",
   "id": "7a2fd0fa-fde7-464c-ad3b-bb2a0a20a21b",
   "metadata": {
    "tags": []
   },
   "source": [
    "### 2-DISCRETIZACION DE SERIE, DISTRIBUCION NO UNIFORME ###"
   ]
  },
  {
   "cell_type": "markdown",
   "id": "5f783f29-6761-4e73-9a86-c818bfe6a123",
   "metadata": {},
   "source": [
    "**Usamos array de ejemplo anterior**"
   ]
  },
  {
   "cell_type": "code",
   "execution_count": 7,
   "id": "8d6bdaad-f6ed-4a2e-b425-2fbf1acbe9d9",
   "metadata": {},
   "outputs": [
    {
     "name": "stdout",
     "output_type": "stream",
     "text": [
      "[-inf  11.  17.  59.  inf]\n",
      "['infante' 'infante' 'infante' 'joven' 'joven' 'adulto' 'adulto' 'adulto'\n",
      " 'adulto' 'mayor' 'mayor' 'mayor']\n"
     ]
    }
   ],
   "source": [
    "resultado= pd.cut(edades,\n",
    "                  bins=[-np.inf,11,17,59,np.inf], #definimos rangos \"no uniforme\"\n",
    "                  labels=[\"infante\",\"joven\",\"adulto\",\"mayor\"], #Asignamos etiquetas a los contenedores\n",
    "                  include_lowest=True, # este comano sirve para incluir los valores mas bajos,para no tener error\n",
    "                  retbins =True) # comando para saber le tamaño de los contenedores\n",
    "print(resultado[1]) #Para observar los rangos de captacion.\n",
    "print(np.array(resultado[0])) #Para observar el nuevo array"
   ]
  },
  {
   "cell_type": "markdown",
   "id": "ebdd0933-cdbf-4d28-b0e3-f1f7c2534930",
   "metadata": {
    "tags": []
   },
   "source": [
    "### 3-DISCRETIZACION DE DATAFRAME, DISTRIBUCION NO UNIFORME. ##"
   ]
  },
  {
   "cell_type": "code",
   "execution_count": 6,
   "id": "8d04b75a-ee36-44a7-9001-9b889ba85911",
   "metadata": {},
   "outputs": [],
   "source": [
    "import math #Previo a todo, tenemos que ingresar este biblioteca."
   ]
  },
  {
   "cell_type": "code",
   "execution_count": 7,
   "id": "861965a0-6001-4160-ad6f-7e0b73242eb0",
   "metadata": {},
   "outputs": [
    {
     "data": {
      "text/html": [
       "<div>\n",
       "<style scoped>\n",
       "    .dataframe tbody tr th:only-of-type {\n",
       "        vertical-align: middle;\n",
       "    }\n",
       "\n",
       "    .dataframe tbody tr th {\n",
       "        vertical-align: top;\n",
       "    }\n",
       "\n",
       "    .dataframe thead th {\n",
       "        text-align: right;\n",
       "    }\n",
       "</style>\n",
       "<table border=\"1\" class=\"dataframe\">\n",
       "  <thead>\n",
       "    <tr style=\"text-align: right;\">\n",
       "      <th></th>\n",
       "      <th>total_bill</th>\n",
       "      <th>tip</th>\n",
       "      <th>sex</th>\n",
       "      <th>smoker</th>\n",
       "      <th>day</th>\n",
       "      <th>time</th>\n",
       "      <th>size</th>\n",
       "    </tr>\n",
       "  </thead>\n",
       "  <tbody>\n",
       "    <tr>\n",
       "      <th>0</th>\n",
       "      <td>16.99</td>\n",
       "      <td>1.01</td>\n",
       "      <td>Female</td>\n",
       "      <td>No</td>\n",
       "      <td>Sun</td>\n",
       "      <td>Dinner</td>\n",
       "      <td>2</td>\n",
       "    </tr>\n",
       "    <tr>\n",
       "      <th>1</th>\n",
       "      <td>10.34</td>\n",
       "      <td>1.66</td>\n",
       "      <td>Male</td>\n",
       "      <td>No</td>\n",
       "      <td>Sun</td>\n",
       "      <td>Dinner</td>\n",
       "      <td>3</td>\n",
       "    </tr>\n",
       "    <tr>\n",
       "      <th>2</th>\n",
       "      <td>21.01</td>\n",
       "      <td>3.50</td>\n",
       "      <td>Male</td>\n",
       "      <td>No</td>\n",
       "      <td>Sun</td>\n",
       "      <td>Dinner</td>\n",
       "      <td>3</td>\n",
       "    </tr>\n",
       "  </tbody>\n",
       "</table>\n",
       "</div>"
      ],
      "text/plain": [
       "   total_bill   tip     sex smoker  day    time  size\n",
       "0       16.99  1.01  Female     No  Sun  Dinner     2\n",
       "1       10.34  1.66    Male     No  Sun  Dinner     3\n",
       "2       21.01  3.50    Male     No  Sun  Dinner     3"
      ]
     },
     "execution_count": 7,
     "metadata": {},
     "output_type": "execute_result"
    }
   ],
   "source": [
    "df=sns.load_dataset(\"tips\")\n",
    "df.head(3)"
   ]
  },
  {
   "cell_type": "markdown",
   "id": "74c96be4-947d-4147-a42b-39730b2c87f7",
   "metadata": {},
   "source": [
    "**Discretizaremos la variable \"size\", a \"talle L\" y \"talle XL\":** "
   ]
  },
  {
   "cell_type": "code",
   "execution_count": 8,
   "id": "93dc4922-8dbd-4c20-b7e8-63e6ad1398fa",
   "metadata": {},
   "outputs": [],
   "source": [
    "valores= [-math.inf,3,math.inf] #Creamos los intervalos."
   ]
  },
  {
   "cell_type": "code",
   "execution_count": 9,
   "id": "d555b7ef-e19a-4739-8fbc-c33672cf35c5",
   "metadata": {},
   "outputs": [],
   "source": [
    "categorias= [\"talle L\", \"talle XL\"] #Creamos el nombre de los contenedores."
   ]
  },
  {
   "cell_type": "code",
   "execution_count": 10,
   "id": "e51bd456-86a9-44db-934a-2b8533028983",
   "metadata": {},
   "outputs": [
    {
     "data": {
      "text/html": [
       "<div>\n",
       "<style scoped>\n",
       "    .dataframe tbody tr th:only-of-type {\n",
       "        vertical-align: middle;\n",
       "    }\n",
       "\n",
       "    .dataframe tbody tr th {\n",
       "        vertical-align: top;\n",
       "    }\n",
       "\n",
       "    .dataframe thead th {\n",
       "        text-align: right;\n",
       "    }\n",
       "</style>\n",
       "<table border=\"1\" class=\"dataframe\">\n",
       "  <thead>\n",
       "    <tr style=\"text-align: right;\">\n",
       "      <th></th>\n",
       "      <th>total_bill</th>\n",
       "      <th>tip</th>\n",
       "      <th>sex</th>\n",
       "      <th>smoker</th>\n",
       "      <th>day</th>\n",
       "      <th>time</th>\n",
       "      <th>size</th>\n",
       "    </tr>\n",
       "  </thead>\n",
       "  <tbody>\n",
       "    <tr>\n",
       "      <th>0</th>\n",
       "      <td>16.99</td>\n",
       "      <td>1.01</td>\n",
       "      <td>Female</td>\n",
       "      <td>No</td>\n",
       "      <td>Sun</td>\n",
       "      <td>Dinner</td>\n",
       "      <td>talle L</td>\n",
       "    </tr>\n",
       "    <tr>\n",
       "      <th>1</th>\n",
       "      <td>10.34</td>\n",
       "      <td>1.66</td>\n",
       "      <td>Male</td>\n",
       "      <td>No</td>\n",
       "      <td>Sun</td>\n",
       "      <td>Dinner</td>\n",
       "      <td>talle L</td>\n",
       "    </tr>\n",
       "    <tr>\n",
       "      <th>2</th>\n",
       "      <td>21.01</td>\n",
       "      <td>3.50</td>\n",
       "      <td>Male</td>\n",
       "      <td>No</td>\n",
       "      <td>Sun</td>\n",
       "      <td>Dinner</td>\n",
       "      <td>talle L</td>\n",
       "    </tr>\n",
       "    <tr>\n",
       "      <th>3</th>\n",
       "      <td>23.68</td>\n",
       "      <td>3.31</td>\n",
       "      <td>Male</td>\n",
       "      <td>No</td>\n",
       "      <td>Sun</td>\n",
       "      <td>Dinner</td>\n",
       "      <td>talle L</td>\n",
       "    </tr>\n",
       "    <tr>\n",
       "      <th>4</th>\n",
       "      <td>24.59</td>\n",
       "      <td>3.61</td>\n",
       "      <td>Female</td>\n",
       "      <td>No</td>\n",
       "      <td>Sun</td>\n",
       "      <td>Dinner</td>\n",
       "      <td>talle XL</td>\n",
       "    </tr>\n",
       "    <tr>\n",
       "      <th>...</th>\n",
       "      <td>...</td>\n",
       "      <td>...</td>\n",
       "      <td>...</td>\n",
       "      <td>...</td>\n",
       "      <td>...</td>\n",
       "      <td>...</td>\n",
       "      <td>...</td>\n",
       "    </tr>\n",
       "    <tr>\n",
       "      <th>239</th>\n",
       "      <td>29.03</td>\n",
       "      <td>5.92</td>\n",
       "      <td>Male</td>\n",
       "      <td>No</td>\n",
       "      <td>Sat</td>\n",
       "      <td>Dinner</td>\n",
       "      <td>talle L</td>\n",
       "    </tr>\n",
       "    <tr>\n",
       "      <th>240</th>\n",
       "      <td>27.18</td>\n",
       "      <td>2.00</td>\n",
       "      <td>Female</td>\n",
       "      <td>Yes</td>\n",
       "      <td>Sat</td>\n",
       "      <td>Dinner</td>\n",
       "      <td>talle L</td>\n",
       "    </tr>\n",
       "    <tr>\n",
       "      <th>241</th>\n",
       "      <td>22.67</td>\n",
       "      <td>2.00</td>\n",
       "      <td>Male</td>\n",
       "      <td>Yes</td>\n",
       "      <td>Sat</td>\n",
       "      <td>Dinner</td>\n",
       "      <td>talle L</td>\n",
       "    </tr>\n",
       "    <tr>\n",
       "      <th>242</th>\n",
       "      <td>17.82</td>\n",
       "      <td>1.75</td>\n",
       "      <td>Male</td>\n",
       "      <td>No</td>\n",
       "      <td>Sat</td>\n",
       "      <td>Dinner</td>\n",
       "      <td>talle L</td>\n",
       "    </tr>\n",
       "    <tr>\n",
       "      <th>243</th>\n",
       "      <td>18.78</td>\n",
       "      <td>3.00</td>\n",
       "      <td>Female</td>\n",
       "      <td>No</td>\n",
       "      <td>Thur</td>\n",
       "      <td>Dinner</td>\n",
       "      <td>talle L</td>\n",
       "    </tr>\n",
       "  </tbody>\n",
       "</table>\n",
       "<p>244 rows × 7 columns</p>\n",
       "</div>"
      ],
      "text/plain": [
       "     total_bill   tip     sex smoker   day    time      size\n",
       "0         16.99  1.01  Female     No   Sun  Dinner   talle L\n",
       "1         10.34  1.66    Male     No   Sun  Dinner   talle L\n",
       "2         21.01  3.50    Male     No   Sun  Dinner   talle L\n",
       "3         23.68  3.31    Male     No   Sun  Dinner   talle L\n",
       "4         24.59  3.61  Female     No   Sun  Dinner  talle XL\n",
       "..          ...   ...     ...    ...   ...     ...       ...\n",
       "239       29.03  5.92    Male     No   Sat  Dinner   talle L\n",
       "240       27.18  2.00  Female    Yes   Sat  Dinner   talle L\n",
       "241       22.67  2.00    Male    Yes   Sat  Dinner   talle L\n",
       "242       17.82  1.75    Male     No   Sat  Dinner   talle L\n",
       "243       18.78  3.00  Female     No  Thur  Dinner   talle L\n",
       "\n",
       "[244 rows x 7 columns]"
      ]
     },
     "execution_count": 10,
     "metadata": {},
     "output_type": "execute_result"
    }
   ],
   "source": [
    "df['size']=pd.cut(x=df['size'], #Reincribimos la modificacion sobre el viejo df\n",
    "                    bins= valores, \n",
    "                    labels= categorias,\n",
    "                    include_lowest=True) #Este comando es para que no se escapen los datos\n",
    "df  #Comando para imprimir y ver la modificacion"
   ]
  },
  {
   "cell_type": "markdown",
   "id": "ff3f34e3-c9e4-47fe-9699-5444b09bc443",
   "metadata": {},
   "source": [
    "**Observaciones:**\n",
    "- Ya tenemos el nuevo df con la modificacino realizada."
   ]
  },
  {
   "cell_type": "code",
   "execution_count": null,
   "id": "b2597688-483e-46e4-b94d-68e2ddc51d98",
   "metadata": {},
   "outputs": [],
   "source": []
  }
 ],
 "metadata": {
  "kernelspec": {
   "display_name": "Python 3 (ipykernel)",
   "language": "python",
   "name": "python3"
  },
  "language_info": {
   "codemirror_mode": {
    "name": "ipython",
    "version": 3
   },
   "file_extension": ".py",
   "mimetype": "text/x-python",
   "name": "python",
   "nbconvert_exporter": "python",
   "pygments_lexer": "ipython3",
   "version": "3.9.13"
  }
 },
 "nbformat": 4,
 "nbformat_minor": 5
}
