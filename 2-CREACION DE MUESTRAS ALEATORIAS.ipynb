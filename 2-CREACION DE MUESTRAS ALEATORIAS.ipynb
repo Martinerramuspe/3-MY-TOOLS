{
 "cells": [
  {
   "cell_type": "code",
   "execution_count": 37,
   "id": "7d78b448-a08e-4c60-9e73-722db838b684",
   "metadata": {},
   "outputs": [],
   "source": [
    "import numpy as np"
   ]
  },
  {
   "cell_type": "code",
   "execution_count": 38,
   "id": "bbd3193e-df2f-4232-8dce-15ac47a05ece",
   "metadata": {},
   "outputs": [],
   "source": [
    "import random as rd"
   ]
  },
  {
   "cell_type": "code",
   "execution_count": 32,
   "id": "01ca8952-a831-4efb-90de-b3709ec3b7f0",
   "metadata": {},
   "outputs": [
    {
     "data": {
      "text/plain": [
       "array([77.33689646, 67.29124065, 85.35766712, 57.75774933, 75.86385165,\n",
       "       12.65395494, 84.14567016, 60.29813675, 17.68834741, 48.42011603])"
      ]
     },
     "execution_count": 32,
     "metadata": {},
     "output_type": "execute_result"
    }
   ],
   "source": [
    "np.random.rand(10)*100  #extraccion de 10 muestras,  de una poblacion de 100 indivudos"
   ]
  },
  {
   "cell_type": "code",
   "execution_count": 28,
   "id": "8470a618-314d-46a2-8e6e-3dc1ba70caf0",
   "metadata": {},
   "outputs": [
    {
     "data": {
      "text/plain": [
       "3"
      ]
     },
     "execution_count": 28,
     "metadata": {},
     "output_type": "execute_result"
    }
   ],
   "source": [
    "rd.randint(1,6)  # Extraccion de una muestras de una poblacion parametrizada "
   ]
  },
  {
   "cell_type": "code",
   "execution_count": 39,
   "id": "2af38ab7-600f-470c-876e-f8b40f7ff68a",
   "metadata": {},
   "outputs": [],
   "source": [
    "datos_aleatorios= np.random.normal(0,1,10) # DISTRIBUCION NORMAL, media, desviacion, cantidad de valores"
   ]
  },
  {
   "cell_type": "code",
   "execution_count": 34,
   "id": "b029bd25-e5d7-4a96-9a4b-4ad09531189b",
   "metadata": {},
   "outputs": [
    {
     "name": "stdout",
     "output_type": "stream",
     "text": [
      "[ 0.12365508 -0.45322842 -0.31256172 -0.18594681  0.65113138  0.3497193\n",
      " -0.57984368 -0.11950441 -0.0059541  -0.89512969]\n"
     ]
    }
   ],
   "source": [
    "print(datos_aleatorios)"
   ]
  },
  {
   "cell_type": "code",
   "execution_count": 61,
   "id": "19b34683-ec2b-4cab-9216-d86eec4cdbab",
   "metadata": {},
   "outputs": [],
   "source": [
    "datos_aleatorios_1= np.random.uniform(0,1,10) # DISTRIBUCION UNIFORME,media, desviacion, cantidad de valores\n"
   ]
  },
  {
   "cell_type": "code",
   "execution_count": 62,
   "id": "010f15a1-0a9b-412b-9b62-cfa6ec6dc89c",
   "metadata": {},
   "outputs": [
    {
     "name": "stdout",
     "output_type": "stream",
     "text": [
      "[0.18135886 0.27845704 0.76800435 0.65838962 0.4840557  0.98494579\n",
      " 0.01613576 0.84852337 0.93253255 0.44553346]\n"
     ]
    }
   ],
   "source": [
    "print(datos_aleatorios_1)"
   ]
  },
  {
   "cell_type": "code",
   "execution_count": 64,
   "id": "0aaff0c2-dd3e-413a-9ada-ce8441316a65",
   "metadata": {},
   "outputs": [],
   "source": [
    "datos_aleatorios_2= np.random.exponential(10) # DISTRIBUCION EXPONENCIAL,(para este caso no se puede usar M y desvio)\n"
   ]
  },
  {
   "cell_type": "code",
   "execution_count": 58,
   "id": "cceb3f14-40a4-4cea-8964-7e5c43de329a",
   "metadata": {},
   "outputs": [
    {
     "name": "stdout",
     "output_type": "stream",
     "text": [
      "3.350511561279732\n"
     ]
    }
   ],
   "source": [
    "print(datos_aleatorios_2)"
   ]
  },
  {
   "cell_type": "markdown",
   "id": "f9a7d895-919c-4307-8465-e2d4aa791f03",
   "metadata": {},
   "source": [
    "* Mas informacion sobre random :  (https://interactivechaos.com/es/manual/tutorial-de-numpy/funciones-simples)"
   ]
  },
  {
   "cell_type": "markdown",
   "id": "d33d148f-70e9-44bc-981f-3c4371fe8a32",
   "metadata": {},
   "source": [
    "* Mas informacion sobre random_2 : (https://www.mclibre.org/consultar/python/lecciones/python-biblioteca-random.html)"
   ]
  },
  {
   "cell_type": "code",
   "execution_count": null,
   "id": "56e46587-07f0-497a-9202-c15375438e47",
   "metadata": {},
   "outputs": [],
   "source": []
  }
 ],
 "metadata": {
  "kernelspec": {
   "display_name": "Python 3 (ipykernel)",
   "language": "python",
   "name": "python3"
  },
  "language_info": {
   "codemirror_mode": {
    "name": "ipython",
    "version": 3
   },
   "file_extension": ".py",
   "mimetype": "text/x-python",
   "name": "python",
   "nbconvert_exporter": "python",
   "pygments_lexer": "ipython3",
   "version": "3.9.13"
  }
 },
 "nbformat": 4,
 "nbformat_minor": 5
}
