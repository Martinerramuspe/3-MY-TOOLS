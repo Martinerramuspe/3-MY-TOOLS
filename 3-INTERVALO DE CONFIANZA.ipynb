{
 "cells": [
  {
   "cell_type": "markdown",
   "id": "d368942c-2e54-4182-9b46-f693b4ccf9d6",
   "metadata": {},
   "source": [
    "#### 1-CONSIGNA: Determinar el intervalo de confianza de la media, de una muestra de 100 individuos, para una probabilidad del 95%."
   ]
  },
  {
   "cell_type": "code",
   "execution_count": 20,
   "id": "73ec074a-bb3f-4a73-9628-7d873a9ce9d8",
   "metadata": {},
   "outputs": [],
   "source": [
    "import numpy as np"
   ]
  },
  {
   "cell_type": "code",
   "execution_count": 21,
   "id": "2c6159e0-2bec-49a8-9e56-e3c1ea3e8904",
   "metadata": {},
   "outputs": [],
   "source": [
    "import scipy.stats as stats"
   ]
  },
  {
   "cell_type": "code",
   "execution_count": 22,
   "id": "8b9bd5a2-0823-46f4-90e5-ee70bcaf9304",
   "metadata": {},
   "outputs": [],
   "source": [
    "from math import sqrt"
   ]
  },
  {
   "cell_type": "code",
   "execution_count": 23,
   "id": "2995c6dc-969f-4504-b9e3-ff318f6c6dd1",
   "metadata": {},
   "outputs": [],
   "source": [
    "import matplotlib.pyplot as plt"
   ]
  },
  {
   "cell_type": "markdown",
   "id": "22b8da91-6467-4f35-ad55-35459d7e88a1",
   "metadata": {},
   "source": [
    "#### Creamos una muestra, que siga una distrubicion normal."
   ]
  },
  {
   "cell_type": "code",
   "execution_count": 24,
   "id": "4b6391ff-c1f1-4cc3-884a-ca9b8ec2e867",
   "metadata": {},
   "outputs": [],
   "source": [
    "datos= np.random.normal(170,8,100) "
   ]
  },
  {
   "cell_type": "code",
   "execution_count": 25,
   "id": "6a5ed7b8-753f-4fcb-a3cc-f7dddb9ecb80",
   "metadata": {},
   "outputs": [
    {
     "name": "stdout",
     "output_type": "stream",
     "text": [
      "[157.22890955 172.11990817 165.95491337 176.60488845 170.41932353\n",
      " 168.94560707 161.57937702 161.75436449 178.59960352 187.96069592\n",
      " 168.29754858 170.66094713 174.54486902 167.66799527 188.17587616\n",
      " 174.23745565 182.55270814 168.06666519 161.90506364 152.91575286\n",
      " 180.81512814 201.98203132 163.27706918 157.29541585 176.82103933\n",
      " 160.715057   173.83028167 178.23616096 164.03286823 171.60837108\n",
      " 153.31908607 169.30782856 167.86815462 166.72556759 173.81776775\n",
      " 149.64360717 155.36735611 179.12688167 159.32929164 168.40772826\n",
      " 170.26003788 165.77674153 175.80739656 174.5467642  158.57707419\n",
      " 175.22175317 170.74240823 177.63246361 172.51042932 173.26411513\n",
      " 152.23005881 168.73772633 171.56003748 178.28133734 165.25898008\n",
      " 155.69881718 166.80658882 164.93485412 157.35788383 170.4142902\n",
      " 165.22364759 169.09876604 166.15587594 159.9386321  158.27528541\n",
      " 157.37939316 161.9697747  158.77263319 168.18489666 170.12125442\n",
      " 172.61640928 176.34232176 177.99354415 171.59462438 172.88346528\n",
      " 176.387403   167.82096317 171.79691368 171.12576376 174.68019478\n",
      " 179.94915237 176.65926789 172.29697228 164.93242333 173.84867545\n",
      " 169.68076395 160.29609681 161.72439037 180.80814559 173.30531131\n",
      " 176.38274637 184.29459951 171.92945821 163.48634362 163.40234405\n",
      " 175.94091278 165.23824219 164.99261438 178.64446806 171.13597636]\n"
     ]
    }
   ],
   "source": [
    "print(datos)"
   ]
  },
  {
   "cell_type": "markdown",
   "id": "dde26c41-88f8-4639-abf6-11d9fa6cbf31",
   "metadata": {
    "tags": []
   },
   "source": [
    "#### Creamos histograma para observar su distribucion normal."
   ]
  },
  {
   "cell_type": "code",
   "execution_count": 26,
   "id": "eb8dae68-b843-4f8b-87e0-90e1f01cb443",
   "metadata": {},
   "outputs": [
    {
     "data": {
      "image/png": "[encoded data removed]",
      "text/plain": [
       "<Figure size 640x480 with 1 Axes>"
      ]
     },
     "metadata": {},
     "output_type": "display_data"
    }
   ],
   "source": [
    "plt.hist (datos,color=\"green\", ec=\"black\",bins=12)\n",
    "plt.show()"
   ]
  },
  {
   "cell_type": "markdown",
   "id": "d3881811-bb8a-4af7-9b8c-d3f36d1dad76",
   "metadata": {
    "tags": []
   },
   "source": [
    "#### Determinamos estadistica:"
   ]
  },
  {
   "cell_type": "code",
   "execution_count": 27,
   "id": "1e921bdc-5e41-44a8-875d-9ccd8ab9122c",
   "metadata": {},
   "outputs": [
    {
     "data": {
      "text/plain": [
       "169.44649590296817"
      ]
     },
     "execution_count": 27,
     "metadata": {},
     "output_type": "execute_result"
    }
   ],
   "source": [
    "np.mean(datos) # media muestral"
   ]
  },
  {
   "cell_type": "code",
   "execution_count": 28,
   "id": "5d44e4a4-99dc-42ef-94a9-856654e2e8e3",
   "metadata": {},
   "outputs": [
    {
     "data": {
      "text/plain": [
       "100"
      ]
     },
     "execution_count": 28,
     "metadata": {},
     "output_type": "execute_result"
    }
   ],
   "source": [
    "datos.size # cantidad de datos"
   ]
  },
  {
   "cell_type": "code",
   "execution_count": 29,
   "id": "5724d380-16cf-460f-8c43-5c20d40938a2",
   "metadata": {},
   "outputs": [
    {
     "data": {
      "text/plain": [
       "8.575986936751608"
      ]
     },
     "execution_count": 29,
     "metadata": {},
     "output_type": "execute_result"
    }
   ],
   "source": [
    "datos.std(ddof=1) # desviacion muestral"
   ]
  },
  {
   "cell_type": "markdown",
   "id": "b03f70e0-f7a7-4e55-9550-d360af82aa30",
   "metadata": {},
   "source": [
    "#### Procedemos a calcular el intervalo de confianza para el 95% de probabilidad:"
   ]
  },
  {
   "cell_type": "code",
   "execution_count": 30,
   "id": "4adb520d-ea92-482f-a075-ff9a8b1fabb4",
   "metadata": {
    "tags": []
   },
   "outputs": [
    {
     "name": "stdout",
     "output_type": "stream",
     "text": [
      "(167.76563335017624, 171.1273584557601)\n"
     ]
    },
    {
     "name": "stderr",
     "output_type": "stream",
     "text": [
      "C:\\Users\\erram\\AppData\\Local\\Temp\\ipykernel_10056\\1867426366.py:1: DeprecationWarning: Use of keyword argument `alpha` for method `interval` is deprecated. Use first positional argument or keyword argument `confidence` instead.\n",
      "  print(stats.norm.interval(alpha= 0.95, #intervalo de confinza\n"
     ]
    }
   ],
   "source": [
    "print(stats.norm.interval(alpha= 0.95, #intervalo de confinza\n",
    "                          loc= np.mean(datos),# media\n",
    "                          scale= datos.std(ddof=1)/sqrt(datos.size)))# desviacion/cantidad de datos\n",
    "                          "
   ]
  },
  {
   "cell_type": "code",
   "execution_count": 33,
   "id": "89bbc870-b08e-4035-b724-4e70fd00fecd",
   "metadata": {},
   "outputs": [
    {
     "name": "stdout",
     "output_type": "stream",
     "text": [
      "3.3617251055838437\n"
     ]
    }
   ],
   "source": [
    "#RANGO DEL INTERVALO\n",
    "a= 171.1273584557601-167.76563335017624\n",
    "print(a)"
   ]
  },
  {
   "cell_type": "code",
   "execution_count": null,
   "id": "1a481901-d8bd-49c0-8791-e2f8f43098d6",
   "metadata": {},
   "outputs": [],
   "source": []
  }
 ],
 "metadata": {
  "kernelspec": {
   "display_name": "Python 3 (ipykernel)",
   "language": "python",
   "name": "python3"
  },
  "language_info": {
   "codemirror_mode": {
    "name": "ipython",
    "version": 3
   },
   "file_extension": ".py",
   "mimetype": "text/x-python",
   "name": "python",
   "nbconvert_exporter": "python",
   "pygments_lexer": "ipython3",
   "version": "3.9.13"
  }
 },
 "nbformat": 4,
 "nbformat_minor": 5
}
